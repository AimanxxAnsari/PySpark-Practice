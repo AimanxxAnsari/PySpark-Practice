{
 "cells": [
  {
   "cell_type": "code",
   "execution_count": 18,
   "metadata": {},
   "outputs": [],
   "source": [
    "import pyspark\n",
    "from pyspark.sql import SparkSession\n",
    "from pyspark.sql.functions import col, desc, sum\n",
    "from pyspark.sql.types import *"
   ]
  },
  {
   "cell_type": "code",
   "execution_count": 19,
   "metadata": {},
   "outputs": [],
   "source": [
    "sc = SparkSession\\\n",
    "    .builder\\\n",
    "    .master(\"local\")\\\n",
    "    .appName('pyspark-airbnb')\\\n",
    "    .getOrCreate()"
   ]
  },
  {
   "cell_type": "code",
   "execution_count": 20,
   "metadata": {},
   "outputs": [
    {
     "name": "stdout",
     "output_type": "stream",
     "text": [
      "+----+--------------------+-------+----------------+-------------------+------------------+--------+---------+---------------+-----+--------------+-----------------+-----------+-----------------+------------------------------+----------------+\n",
      "|  id|                name|host_id|       host_name|neighbourhood_group|     neighbourhood|latitude|longitude|      room_type|price|minimum_nights|number_of_reviews|last_review|reviews_per_month|calculated_host_listings_count|availability_365|\n",
      "+----+--------------------+-------+----------------+-------------------+------------------+--------+---------+---------------+-----+--------------+-----------------+-----------+-----------------+------------------------------+----------------+\n",
      "|2539|Clean & quiet apt...|   2787|            John|           Brooklyn|        Kensington|40.64749|-73.97237|   Private room|  149|             1|                9| 2018-10-19|             0.21|                             6|             365|\n",
      "|2595|Skylit Midtown Ca...|   2845|        Jennifer|          Manhattan|           Midtown|40.75362|-73.98377|Entire home/apt|  225|             1|               45| 2019-05-21|             0.38|                             2|             355|\n",
      "|3647|THE VILLAGE OF HA...|   4632|       Elisabeth|          Manhattan|            Harlem|40.80902| -73.9419|   Private room|  150|             3|                0|       NULL|             NULL|                             1|             365|\n",
      "|3831|Cozy Entire Floor...|   4869|     LisaRoxanne|           Brooklyn|      Clinton Hill|40.68514|-73.95976|Entire home/apt|   89|             1|              270| 2019-07-05|             4.64|                             1|             194|\n",
      "|5022|Entire Apt: Spaci...|   7192|           Laura|          Manhattan|       East Harlem|40.79851|-73.94399|Entire home/apt|   80|            10|                9| 2018-11-19|             0.10|                             1|               0|\n",
      "|5099|Large Cozy 1 BR A...|   7322|           Chris|          Manhattan|       Murray Hill|40.74767|  -73.975|Entire home/apt|  200|             3|               74| 2019-06-22|             0.59|                             1|             129|\n",
      "|5121|     BlissArtsSpace!|   7356|           Garon|           Brooklyn|Bedford-Stuyvesant|40.68688|-73.95596|   Private room|   60|            45|               49| 2017-10-05|             0.40|                             1|               0|\n",
      "|5178|Large Furnished R...|   8967|        Shunichi|          Manhattan|    Hell's Kitchen|40.76489|-73.98493|   Private room|   79|             2|              430| 2019-06-24|             3.47|                             1|             220|\n",
      "|5203|Cozy Clean Guest ...|   7490|       MaryEllen|          Manhattan|   Upper West Side|40.80178|-73.96723|   Private room|   79|             2|              118| 2017-07-21|             0.99|                             1|               0|\n",
      "|5238|Cute & Cozy Lower...|   7549|             Ben|          Manhattan|         Chinatown|40.71344|-73.99037|Entire home/apt|  150|             1|              160| 2019-06-09|             1.33|                             4|             188|\n",
      "|5295|Beautiful 1br on ...|   7702|            Lena|          Manhattan|   Upper West Side|40.80316|-73.96545|Entire home/apt|  135|             5|               53| 2019-06-22|             0.43|                             1|               6|\n",
      "|5441|Central Manhattan...|   7989|            Kate|          Manhattan|    Hell's Kitchen|40.76076|-73.98867|   Private room|   85|             2|              188| 2019-06-23|             1.50|                             1|              39|\n",
      "|5803|Lovely Room 1, Ga...|   9744|          Laurie|           Brooklyn|       South Slope|40.66829|-73.98779|   Private room|   89|             4|              167| 2019-06-24|             1.34|                             3|             314|\n",
      "|6021|Wonderful Guest B...|  11528|         Claudio|          Manhattan|   Upper West Side|40.79826|-73.96113|   Private room|   85|             2|              113| 2019-07-05|             0.91|                             1|             333|\n",
      "|6090|West Village Nest...|  11975|           Alina|          Manhattan|      West Village| 40.7353|-74.00525|Entire home/apt|  120|            90|               27| 2018-10-31|             0.22|                             1|               0|\n",
      "|6848|Only 2 stops to M...|  15991|   Allen & Irina|           Brooklyn|      Williamsburg|40.70837|-73.95352|Entire home/apt|  140|             2|              148| 2019-06-29|             1.20|                             1|              46|\n",
      "|7097|Perfect for Your ...|  17571|            Jane|           Brooklyn|       Fort Greene|40.69169|-73.97185|Entire home/apt|  215|             2|              198| 2019-06-28|             1.72|                             1|             321|\n",
      "|7322|     Chelsea Perfect|  18946|            Doti|          Manhattan|           Chelsea|40.74192|-73.99501|   Private room|  140|             1|              260| 2019-07-01|             2.12|                             1|              12|\n",
      "|7726|Hip Historic Brow...|  20950|Adam And Charity|           Brooklyn|     Crown Heights|40.67592|-73.94694|Entire home/apt|   99|             3|               53| 2019-06-22|             4.44|                             1|              21|\n",
      "|7750|Huge 2 BR Upper E...|  17985|            Sing|          Manhattan|       East Harlem|40.79685|-73.94872|Entire home/apt|  190|             7|                0|       NULL|             NULL|                             2|             249|\n",
      "+----+--------------------+-------+----------------+-------------------+------------------+--------+---------+---------------+-----+--------------+-----------------+-----------+-----------------+------------------------------+----------------+\n",
      "only showing top 20 rows\n",
      "\n"
     ]
    }
   ],
   "source": [
    "#reading a csv file with header\n",
    "df = sc.read.option(\"header\", \"True\").csv(\"AB_NYC_2019.csv\")\n",
    "df.show()"
   ]
  },
  {
   "cell_type": "code",
   "execution_count": 21,
   "metadata": {},
   "outputs": [
    {
     "name": "stdout",
     "output_type": "stream",
     "text": [
      "+------------------+-------+\n",
      "|     neighbourhood|n_price|\n",
      "+------------------+-------+\n",
      "|      Williamsburg| 441505|\n",
      "|Bedford-Stuyvesant| 331439|\n",
      "|    Hell's Kitchen| 283364|\n",
      "|   Upper West Side| 276330|\n",
      "|           Midtown| 263354|\n",
      "|      East Village| 260102|\n",
      "|            Harlem| 256974|\n",
      "|   Upper East Side| 234269|\n",
      "|           Chelsea| 182969|\n",
      "|          Bushwick| 164922|\n",
      "|      West Village| 152524|\n",
      "|     Crown Heights| 140922|\n",
      "|   Lower East Side| 130946|\n",
      "|        Greenpoint| 125081|\n",
      "|       East Harlem| 124438|\n",
      "|Financial District| 111344|\n",
      "|      Clinton Hill|  84461|\n",
      "|           Astoria|  82087|\n",
      "|              SoHo|  80509|\n",
      "| Greenwich Village|  72611|\n",
      "+------------------+-------+\n",
      "only showing top 20 rows\n",
      "\n"
     ]
    }
   ],
   "source": [
    "#renaming column and printing updated schema again\n",
    "df1 = df.withColumnRenamed(\"name\", \"address\")\n",
    "\n",
    "#changing price datatype to Integer\n",
    "df1 = df1.withColumn(\"price\", df1[\"price\"].cast(IntegerType()))\n",
    "# df2.groupBy(\"neighbourhood_group\").sum(\"price\").show()\n",
    "\n",
    "\n",
    "#counts the null values in a particular column\n",
    "null_count = df1.filter(df1['address'].isNull()).count()\n",
    "null_count\n",
    "\n",
    "#drops rows with null values\n",
    "df2 = df1.dropna()\n",
    "\n",
    "#gives an alias and then sorts the price column in descending order``\n",
    "df2.groupBy(\"neighbourhood\")\\\n",
    "    .agg(sum(\"price\").alias(\"n_price\")) \\\n",
    "    .sort(desc(\"n_price\")).show()"
   ]
  },
  {
   "cell_type": "code",
   "execution_count": 16,
   "metadata": {},
   "outputs": [
    {
     "name": "stdout",
     "output_type": "stream",
     "text": [
      "+-------------------+\n",
      "|neighbourhood_group|\n",
      "+-------------------+\n",
      "|         Douglaston|\n",
      "|             Queens|\n",
      "|              Nadia|\n",
      "|            Midtown|\n",
      "|    Jackson Heights|\n",
      "|     Hell's Kitchen|\n",
      "|  Greenwich Village|\n",
      "|       Clinton Hill|\n",
      "| Washington Heights|\n",
      "|   Ditmars Steinway|\n",
      "|           Longwood|\n",
      "|          Briarwood|\n",
      "|        Little Neck|\n",
      "|           Flushing|\n",
      "|      Randall Manor|\n",
      "|             Carmen|\n",
      "|      East Elmhurst|\n",
      "|    Upper East Side|\n",
      "|         Bath Beach|\n",
      "|           Canarsie|\n",
      "+-------------------+\n",
      "only showing top 20 rows\n",
      "\n"
     ]
    }
   ],
   "source": [
    "#neigbourhood has \n",
    "u = []\n",
    "u = df.select(\"neighbourhood_group\").distinct()\n",
    "# unique_values.show()\n",
    "u.show()"
   ]
  }
 ],
 "metadata": {
  "kernelspec": {
   "display_name": "base",
   "language": "python",
   "name": "python3"
  },
  "language_info": {
   "codemirror_mode": {
    "name": "ipython",
    "version": 3
   },
   "file_extension": ".py",
   "mimetype": "text/x-python",
   "name": "python",
   "nbconvert_exporter": "python",
   "pygments_lexer": "ipython3",
   "version": "3.11.4"
  }
 },
 "nbformat": 4,
 "nbformat_minor": 2
}
