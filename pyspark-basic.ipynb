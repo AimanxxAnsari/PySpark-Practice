{
 "cells": [
  {
   "cell_type": "code",
   "execution_count": 1,
   "metadata": {},
   "outputs": [],
   "source": [
    "import pyspark\n",
    "from pyspark.sql import SparkSession\n",
    "from pyspark.sql.functions import col\n",
    "from pyspark.sql.types import *"
   ]
  },
  {
   "cell_type": "code",
   "execution_count": 2,
   "metadata": {},
   "outputs": [
    {
     "name": "stderr",
     "output_type": "stream",
     "text": [
      "Setting default log level to \"WARN\".\n",
      "To adjust logging level use sc.setLogLevel(newLevel). For SparkR, use setLogLevel(newLevel).\n",
      "23/12/16 19:05:10 WARN NativeCodeLoader: Unable to load native-hadoop library for your platform... using builtin-java classes where applicable\n",
      "23/12/16 19:05:10 WARN Utils: Service 'SparkUI' could not bind on port 4040. Attempting port 4041.\n"
     ]
    }
   ],
   "source": [
    "#creating SparkSession\n",
    "sc = SparkSession\\\n",
    "    .builder\\\n",
    "    .master(\"local[1]\")\\\n",
    "    .appName('example_spark')\\\n",
    "    .getOrCreate()"
   ]
  },
  {
   "cell_type": "code",
   "execution_count": 3,
   "metadata": {},
   "outputs": [
    {
     "name": "stderr",
     "output_type": "stream",
     "text": [
      "                                                                                \r"
     ]
    },
    {
     "name": "stdout",
     "output_type": "stream",
     "text": [
      "+---+---------------+---+--------+\n",
      "| id|           Name|Age|Location|\n",
      "+---+---------------+---+--------+\n",
      "|  1|Gilbert Gathara| 24| Nairobi|\n",
      "|  2|   Someone Else| 32| Nowhere|\n",
      "+---+---------------+---+--------+\n",
      "\n"
     ]
    }
   ],
   "source": [
    "#manually adding data and headers then creating a dataframe\n",
    "data1 = [\n",
    "    (1, \"Gilbert Gathara\", \"24\", \"Nairobi\"), \n",
    "    (2, \"Someone Else\", \"32\", \"Nowhere\")\n",
    "]\n",
    "headers = (\"id\", \"Name\", \"Age\", \"Location\")\n",
    "df1 = sc.createDataFrame(data1, headers)\n",
    "df1.show()"
   ]
  },
  {
   "cell_type": "markdown",
   "metadata": {},
   "source": [
    "RDD Creation"
   ]
  },
  {
   "cell_type": "code",
   "execution_count": 4,
   "metadata": {},
   "outputs": [],
   "source": [
    "#creates a rdd from parallelize - used to create a RDD from a list\n",
    "dataList = [(\"Java\", 20000), (\"Python\", 100000), (\"Scala\", 100)]\n",
    "rdd=sc.sparkContext.parallelize(dataList)"
   ]
  },
  {
   "cell_type": "code",
   "execution_count": null,
   "metadata": {},
   "outputs": [],
   "source": [
    "##RDD Operations - "
   ]
  },
  {
   "cell_type": "code",
   "execution_count": 5,
   "metadata": {},
   "outputs": [
    {
     "name": "stdout",
     "output_type": "stream",
     "text": [
      "+----+--------------------+-------+----------------+-------------------+------------------+--------+---------+---------------+-----+--------------+-----------------+-----------+-----------------+------------------------------+----------------+\n",
      "|  id|                name|host_id|       host_name|neighbourhood_group|     neighbourhood|latitude|longitude|      room_type|price|minimum_nights|number_of_reviews|last_review|reviews_per_month|calculated_host_listings_count|availability_365|\n",
      "+----+--------------------+-------+----------------+-------------------+------------------+--------+---------+---------------+-----+--------------+-----------------+-----------+-----------------+------------------------------+----------------+\n",
      "|2539|Clean & quiet apt...|   2787|            John|           Brooklyn|        Kensington|40.64749|-73.97237|   Private room|  149|             1|                9| 2018-10-19|             0.21|                             6|             365|\n",
      "|2595|Skylit Midtown Ca...|   2845|        Jennifer|          Manhattan|           Midtown|40.75362|-73.98377|Entire home/apt|  225|             1|               45| 2019-05-21|             0.38|                             2|             355|\n",
      "|3647|THE VILLAGE OF HA...|   4632|       Elisabeth|          Manhattan|            Harlem|40.80902| -73.9419|   Private room|  150|             3|                0|       NULL|             NULL|                             1|             365|\n",
      "|3831|Cozy Entire Floor...|   4869|     LisaRoxanne|           Brooklyn|      Clinton Hill|40.68514|-73.95976|Entire home/apt|   89|             1|              270| 2019-07-05|             4.64|                             1|             194|\n",
      "|5022|Entire Apt: Spaci...|   7192|           Laura|          Manhattan|       East Harlem|40.79851|-73.94399|Entire home/apt|   80|            10|                9| 2018-11-19|             0.10|                             1|               0|\n",
      "|5099|Large Cozy 1 BR A...|   7322|           Chris|          Manhattan|       Murray Hill|40.74767|  -73.975|Entire home/apt|  200|             3|               74| 2019-06-22|             0.59|                             1|             129|\n",
      "|5121|     BlissArtsSpace!|   7356|           Garon|           Brooklyn|Bedford-Stuyvesant|40.68688|-73.95596|   Private room|   60|            45|               49| 2017-10-05|             0.40|                             1|               0|\n",
      "|5178|Large Furnished R...|   8967|        Shunichi|          Manhattan|    Hell's Kitchen|40.76489|-73.98493|   Private room|   79|             2|              430| 2019-06-24|             3.47|                             1|             220|\n",
      "|5203|Cozy Clean Guest ...|   7490|       MaryEllen|          Manhattan|   Upper West Side|40.80178|-73.96723|   Private room|   79|             2|              118| 2017-07-21|             0.99|                             1|               0|\n",
      "|5238|Cute & Cozy Lower...|   7549|             Ben|          Manhattan|         Chinatown|40.71344|-73.99037|Entire home/apt|  150|             1|              160| 2019-06-09|             1.33|                             4|             188|\n",
      "|5295|Beautiful 1br on ...|   7702|            Lena|          Manhattan|   Upper West Side|40.80316|-73.96545|Entire home/apt|  135|             5|               53| 2019-06-22|             0.43|                             1|               6|\n",
      "|5441|Central Manhattan...|   7989|            Kate|          Manhattan|    Hell's Kitchen|40.76076|-73.98867|   Private room|   85|             2|              188| 2019-06-23|             1.50|                             1|              39|\n",
      "|5803|Lovely Room 1, Ga...|   9744|          Laurie|           Brooklyn|       South Slope|40.66829|-73.98779|   Private room|   89|             4|              167| 2019-06-24|             1.34|                             3|             314|\n",
      "|6021|Wonderful Guest B...|  11528|         Claudio|          Manhattan|   Upper West Side|40.79826|-73.96113|   Private room|   85|             2|              113| 2019-07-05|             0.91|                             1|             333|\n",
      "|6090|West Village Nest...|  11975|           Alina|          Manhattan|      West Village| 40.7353|-74.00525|Entire home/apt|  120|            90|               27| 2018-10-31|             0.22|                             1|               0|\n",
      "|6848|Only 2 stops to M...|  15991|   Allen & Irina|           Brooklyn|      Williamsburg|40.70837|-73.95352|Entire home/apt|  140|             2|              148| 2019-06-29|             1.20|                             1|              46|\n",
      "|7097|Perfect for Your ...|  17571|            Jane|           Brooklyn|       Fort Greene|40.69169|-73.97185|Entire home/apt|  215|             2|              198| 2019-06-28|             1.72|                             1|             321|\n",
      "|7322|     Chelsea Perfect|  18946|            Doti|          Manhattan|           Chelsea|40.74192|-73.99501|   Private room|  140|             1|              260| 2019-07-01|             2.12|                             1|              12|\n",
      "|7726|Hip Historic Brow...|  20950|Adam And Charity|           Brooklyn|     Crown Heights|40.67592|-73.94694|Entire home/apt|   99|             3|               53| 2019-06-22|             4.44|                             1|              21|\n",
      "|7750|Huge 2 BR Upper E...|  17985|            Sing|          Manhattan|       East Harlem|40.79685|-73.94872|Entire home/apt|  190|             7|                0|       NULL|             NULL|                             2|             249|\n",
      "+----+--------------------+-------+----------------+-------------------+------------------+--------+---------+---------------+-----+--------------+-----------------+-----------+-----------------+------------------------------+----------------+\n",
      "only showing top 20 rows\n",
      "\n"
     ]
    }
   ],
   "source": [
    "#reading a csv file with header\n",
    "df2 = sc.read.option(\"header\", \"True\").csv(\"AB_NYC_2019.csv\")\n",
    "df2.show()"
   ]
  },
  {
   "cell_type": "code",
   "execution_count": 6,
   "metadata": {},
   "outputs": [
    {
     "name": "stdout",
     "output_type": "stream",
     "text": [
      "root\n",
      " |-- id: string (nullable = true)\n",
      " |-- address: string (nullable = true)\n",
      " |-- host_id: string (nullable = true)\n",
      " |-- host_name: string (nullable = true)\n",
      " |-- neighbourhood_group: string (nullable = true)\n",
      " |-- neighbourhood: string (nullable = true)\n",
      " |-- latitude: string (nullable = true)\n",
      " |-- longitude: string (nullable = true)\n",
      " |-- room_type: string (nullable = true)\n",
      " |-- price: string (nullable = true)\n",
      " |-- minimum_nights: string (nullable = true)\n",
      " |-- number_of_reviews: string (nullable = true)\n",
      " |-- last_review: string (nullable = true)\n",
      " |-- reviews_per_month: string (nullable = true)\n",
      " |-- calculated_host_listings_count: string (nullable = true)\n",
      " |-- availability_365: string (nullable = true)\n",
      "\n"
     ]
    }
   ],
   "source": [
    "#renaming column and printing updated schema again\n",
    "df2.withColumnRenamed(\"name\", \"address\").printSchema()"
   ]
  },
  {
   "cell_type": "markdown",
   "metadata": {},
   "source": [
    "PySpark SQL"
   ]
  },
  {
   "cell_type": "code",
   "execution_count": 29,
   "metadata": {},
   "outputs": [
    {
     "name": "stdout",
     "output_type": "stream",
     "text": [
      "+----+--------------------+-------+-----------+-------------------+-------------+--------+---------+---------------+-----+--------------+-----------------+-----------+-----------------+------------------------------+----------------+\n",
      "|  id|                name|host_id|  host_name|neighbourhood_group|neighbourhood|latitude|longitude|      room_type|price|minimum_nights|number_of_reviews|last_review|reviews_per_month|calculated_host_listings_count|availability_365|\n",
      "+----+--------------------+-------+-----------+-------------------+-------------+--------+---------+---------------+-----+--------------+-----------------+-----------+-----------------+------------------------------+----------------+\n",
      "|2539|Clean & quiet apt...|   2787|       John|           Brooklyn|   Kensington|40.64749|-73.97237|   Private room|  149|             1|                9| 2018-10-19|             0.21|                             6|             365|\n",
      "|2595|Skylit Midtown Ca...|   2845|   Jennifer|          Manhattan|      Midtown|40.75362|-73.98377|Entire home/apt|  225|             1|               45| 2019-05-21|             0.38|                             2|             355|\n",
      "|3647|THE VILLAGE OF HA...|   4632|  Elisabeth|          Manhattan|       Harlem|40.80902| -73.9419|   Private room|  150|             3|                0|       NULL|             NULL|                             1|             365|\n",
      "|3831|Cozy Entire Floor...|   4869|LisaRoxanne|           Brooklyn| Clinton Hill|40.68514|-73.95976|Entire home/apt|   89|             1|              270| 2019-07-05|             4.64|                             1|             194|\n",
      "|5022|Entire Apt: Spaci...|   7192|      Laura|          Manhattan|  East Harlem|40.79851|-73.94399|Entire home/apt|   80|            10|                9| 2018-11-19|             0.10|                             1|               0|\n",
      "+----+--------------------+-------+-----------+-------------------+-------------+--------+---------+---------------+-----+--------------+-----------------+-----------+-----------------+------------------------------+----------------+\n",
      "only showing top 5 rows\n",
      "\n",
      "+-------------------+-----+\n",
      "|neighbourhood_group|price|\n",
      "+-------------------+-----+\n",
      "|           Brooklyn|  149|\n",
      "|          Manhattan|  225|\n",
      "|          Manhattan|  150|\n",
      "|           Brooklyn|   89|\n",
      "|          Manhattan|   80|\n",
      "+-------------------+-----+\n",
      "only showing top 5 rows\n",
      "\n"
     ]
    }
   ],
   "source": [
    "dfsql = sc.read.option(\"header\", \"True\").csv(\"AB_NYC_2019.csv\")\n",
    "\n",
    "\n",
    "#creates a temporary table on dataframe using createOrReplaceTempView()\n",
    "dfsql.createOrReplaceTempView(\"airbnb\")\n",
    "\n",
    "#once created, it can be accessed through sql()\n",
    "sc.sql(\"SELECT * FROM airbnb\") \\\n",
    "    .show(5)\n",
    "sc.sql(\"SELECT neighbourhood_group, price FROM airbnb\") \\\n",
    "    .show(5)"
   ]
  },
  {
   "cell_type": "code",
   "execution_count": 31,
   "metadata": {},
   "outputs": [
    {
     "name": "stdout",
     "output_type": "stream",
     "text": [
      "+--------------------+---------+---------------+\n",
      "|                name|host_name|  neighbourhood|\n",
      "+--------------------+---------+---------------+\n",
      "|Cozy Clean Guest ...|MaryEllen|Upper West Side|\n",
      "|Beautiful 1br on ...|     Lena|Upper West Side|\n",
      "|Wonderful Guest B...|  Claudio|Upper West Side|\n",
      "|   West Side Retreat|      Cyn|Upper West Side|\n",
      "|Cozy 1BD on Centr...|     Joya|Upper West Side|\n",
      "+--------------------+---------+---------------+\n",
      "only showing top 5 rows\n",
      "\n",
      "+--------------------+---------+---------------+---------------+\n",
      "|                name|host_name|      room_type|  neighbourhood|\n",
      "+--------------------+---------+---------------+---------------+\n",
      "|2 bedroom - Upper...|        D|Entire home/apt|Upper East Side|\n",
      "|      Manhattan Room| Victoria|   Private room|Upper East Side|\n",
      "|Garden studio in ...|     Lisa|Entire home/apt|Upper East Side|\n",
      "|Light and Airy Up...|     Sara|Entire home/apt|Upper East Side|\n",
      "|CENTRAL PARK LOFT...|    Marie|Entire home/apt|Upper East Side|\n",
      "+--------------------+---------+---------------+---------------+\n",
      "only showing top 5 rows\n",
      "\n"
     ]
    }
   ],
   "source": [
    "#filtering rows using WHERE\n",
    "sc.sql(\"SELECT name, host_name, neighbourhood FROM airbnb WHERE neighbourhood = 'Upper West Side' \") \\\n",
    "    .show(5)\n",
    "\n",
    "#can be used as where() from dataframe\n",
    "dfsql.select(\"name\",\"host_name\",\"room_type\",\"neighbourhood\") \\\n",
    "  .where(\"neighbourhood == 'Upper East Side'\") \\\n",
    "  .show(5)\n"
   ]
  },
  {
   "cell_type": "code",
   "execution_count": 33,
   "metadata": {},
   "outputs": [
    {
     "name": "stdout",
     "output_type": "stream",
     "text": [
      "+-------------+-----+\n",
      "|neighbourhood|count|\n",
      "+-------------+-----+\n",
      "|       Corona|   64|\n",
      "| Richmondtown|    1|\n",
      "| Prince's Bay|    4|\n",
      "|  Westerleigh|    2|\n",
      "|   Mill Basin|    4|\n",
      "+-------------+-----+\n",
      "only showing top 5 rows\n",
      "\n",
      "+-------------------+-----+\n",
      "|neighbourhood_group|count|\n",
      "+-------------------+-----+\n",
      "|         Douglaston|    1|\n",
      "|             Queens| 5630|\n",
      "|              Nadia|    1|\n",
      "|            Midtown|    4|\n",
      "|    Jackson Heights|    2|\n",
      "+-------------------+-----+\n",
      "only showing top 5 rows\n",
      "\n"
     ]
    }
   ],
   "source": [
    "dfsql.groupBy(\"neighbourhood\").count() \\\n",
    "  .show(5)\n",
    "\n",
    "sc.sql(\"\"\" SELECT neighbourhood_group, count(*) as count FROM airbnb \n",
    "          GROUP BY neighbourhood_group\"\"\") \\\n",
    "     .show(5)"
   ]
  }
 ],
 "metadata": {
  "kernelspec": {
   "display_name": "Python 3",
   "language": "python",
   "name": "python3"
  },
  "language_info": {
   "codemirror_mode": {
    "name": "ipython",
    "version": 3
   },
   "file_extension": ".py",
   "mimetype": "text/x-python",
   "name": "python",
   "nbconvert_exporter": "python",
   "pygments_lexer": "ipython3",
   "version": "3.11.4"
  }
 },
 "nbformat": 4,
 "nbformat_minor": 2
}
